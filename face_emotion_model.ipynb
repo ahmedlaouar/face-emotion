{
  "nbformat": 4,
  "nbformat_minor": 0,
  "metadata": {
    "colab": {
      "name": "universal_train_model_data_generator.ipynb",
      "provenance": [],
      "collapsed_sections": []
    },
    "kernelspec": {
      "display_name": "Python 3",
      "name": "python3"
    },
    "language_info": {
      "name": "python"
    }
  },
  "cells": [
    {
      "cell_type": "markdown",
      "metadata": {
        "id": "CUWdLc0sCThK"
      },
      "source": [
        "# Loading Data"
      ]
    },
    {
      "cell_type": "code",
      "metadata": {
        "colab": {
          "base_uri": "https://localhost:8080/"
        },
        "id": "lTyUTnaf6wYj",
        "outputId": "ccdc64c6-83be-4ec5-d501-57b50583a4c7"
      },
      "source": [
        "from google.colab import drive\n",
        "drive.mount('/content/drive')"
      ],
      "execution_count": null,
      "outputs": [
        {
          "output_type": "stream",
          "name": "stdout",
          "text": [
            "Drive already mounted at /content/drive; to attempt to forcibly remount, call drive.mount(\"/content/drive\", force_remount=True).\n"
          ]
        }
      ]
    },
    {
      "cell_type": "code",
      "metadata": {
        "colab": {
          "base_uri": "https://localhost:8080/"
        },
        "id": "2xcT6vupB2wq",
        "outputId": "4de2bef7-941f-4274-9637-ed0c62d200e7"
      },
      "source": [
        "!wget -O face_emotion.zip \"https://filesender.renater.fr/download.php?token=1399b9ee-9f53-4f8a-b921-d212325f06a4&files_ids=10167290\" facemask\n"
      ],
      "execution_count": null,
      "outputs": [
        {
          "output_type": "stream",
          "name": "stdout",
          "text": [
            "--2021-12-06 05:59:43--  https://filesender.renater.fr/download.php?token=1399b9ee-9f53-4f8a-b921-d212325f06a4&files_ids=10167290\n",
            "Resolving filesender.renater.fr (filesender.renater.fr)... 194.57.3.10\n",
            "Connecting to filesender.renater.fr (filesender.renater.fr)|194.57.3.10|:443... connected.\n",
            "HTTP request sent, awaiting response... 200 OK\n",
            "Length: 80330117 (77M) [application/zip]\n",
            "Saving to: ‘face_emotion.zip’\n",
            "\n",
            "face_emotion.zip    100%[===================>]  76.61M   478KB/s    in 2m 47s  \n",
            "\n",
            "2021-12-06 06:02:31 (470 KB/s) - ‘face_emotion.zip’ saved [80330117/80330117]\n",
            "\n",
            "--2021-12-06 06:02:31--  http://facemask/\n",
            "Resolving facemask (facemask)... failed: Name or service not known.\n",
            "wget: unable to resolve host address ‘facemask’\n",
            "FINISHED --2021-12-06 06:02:31--\n",
            "Total wall clock time: 2m 48s\n",
            "Downloaded: 1 files, 77M in 2m 47s (470 KB/s)\n"
          ]
        }
      ]
    },
    {
      "cell_type": "code",
      "metadata": {
        "id": "VAzraxxiB799"
      },
      "source": [
        "!unzip -q face_emotion.zip -d image_emotion"
      ],
      "execution_count": null,
      "outputs": []
    },
    {
      "cell_type": "code",
      "metadata": {
        "id": "8KpaY_fYB-x-"
      },
      "source": [
        "picture_size = 48"
      ],
      "execution_count": null,
      "outputs": []
    },
    {
      "cell_type": "markdown",
      "metadata": {
        "id": "Lna5nUNSCLGB"
      },
      "source": [
        "Loading the data to numpy arrays"
      ]
    },
    {
      "cell_type": "code",
      "metadata": {
        "id": "nABbYwo5CBJQ"
      },
      "source": [
        "import os\n",
        "from keras.preprocessing.image import load_img, img_to_array\n",
        "from tensorflow.keras.applications.mobilenet_v2 import preprocess_input\n",
        "import numpy as np\n",
        "dataset_Foldre=\"image_emotion/image_emotion/train\"\n",
        "dataset_Classes = [\"angry\",\"disgust\",\"fear\",\"happy\",\"neutral\",\"sad\",\"surprise\"]\n",
        "data = []\n",
        "labels = []\n",
        "for folder in dataset_Classes:\n",
        "    path = os.path.join(dataset_Foldre,folder)\n",
        "    category_num = dataset_Classes.index(folder)\n",
        "    for image_name in os.listdir(path):\n",
        "        image_path = os.path.join(path,image_name)\n",
        "        image = load_img(image_path, target_size=(picture_size, picture_size),color_mode=\"grayscale\")\n",
        "        image = img_to_array(image)\n",
        "        image = preprocess_input(image)\n",
        "        data.append(image)\n",
        "        labels.append(category_num)   \n",
        "\n",
        "data_train = np.array(data, dtype=\"float32\")\n",
        "labels_train = np.array(labels)\n",
        "dataset_Foldre=\"image_emotion/image_emotion/test\"\n",
        "data = []\n",
        "labels = []\n",
        "for folder in dataset_Classes:\n",
        "    path = os.path.join(dataset_Foldre,folder)\n",
        "    category_num = dataset_Classes.index(folder)\n",
        "    for image_name in os.listdir(path):\n",
        "        image_path = os.path.join(path,image_name)\n",
        "        image = load_img(image_path, target_size=(picture_size, picture_size),color_mode=\"grayscale\")\n",
        "        image = img_to_array(image)\n",
        "        image = preprocess_input(image)\n",
        "        data.append(image)\n",
        "        labels.append(category_num)        \n",
        "\n",
        "data_test = np.array(data, dtype=\"float32\")\n",
        "labels_test = np.array(labels)"
      ],
      "execution_count": null,
      "outputs": []
    },
    {
      "cell_type": "markdown",
      "metadata": {
        "id": "xgJ8rZUcaAS6"
      },
      "source": [
        "# Data analysis"
      ]
    },
    {
      "cell_type": "code",
      "metadata": {
        "colab": {
          "base_uri": "https://localhost:8080/"
        },
        "id": "UROqC3bhC9x3",
        "outputId": "df25edf0-c8b5-4bd9-f33e-5dfdba9f903c"
      },
      "source": [
        "print(\"The size of the training data is X={} Y={} \".format(data_train.shape, labels_train.shape[0]))\n",
        "print(\"The size of the test data is X={} Y={} \".format(data_test.shape, labels_test.shape[0]))"
      ],
      "execution_count": null,
      "outputs": [
        {
          "output_type": "stream",
          "name": "stdout",
          "text": [
            "The size of the training data is X=(28709, 48, 48, 1) Y=28709 \n",
            "The size of the test data is X=(7178, 48, 48, 1) Y=7178 \n"
          ]
        }
      ]
    },
    {
      "cell_type": "markdown",
      "metadata": {
        "id": "bliDdpDuDqtt"
      },
      "source": [
        "Splitting the test data into test/validation sets"
      ]
    },
    {
      "cell_type": "code",
      "metadata": {
        "id": "jXQQo9F-Nww0"
      },
      "source": [
        "test = [(x,y) for x,y in zip(labels_test, data_test)]\n",
        "from random import  shuffle\n",
        "shuffle(test)"
      ],
      "execution_count": null,
      "outputs": []
    },
    {
      "cell_type": "code",
      "metadata": {
        "colab": {
          "base_uri": "https://localhost:8080/"
        },
        "id": "pZgKaHEbQH1X",
        "outputId": "9a766631-cdfb-4258-dea9-a2eb6390d6cb"
      },
      "source": [
        "labels_test = [x[0] for x in test]\n",
        "data_test = [x[1] for x in test]\n",
        "data_test = np.array(data_test, dtype=\"float32\")\n",
        "labels_test = np.array(labels_test)\n",
        "#splitting the test set into test/validation sets\n",
        "data_val = data_test[:7178//2]\n",
        "labels_val = labels_test[:7178//2]\n",
        "data_test = data_test[7178//2:]\n",
        "labels_test = labels_test[7178//2:]\n",
        "print(\"The size of the test data is X={} Y={} \".format(data_test.shape, labels_test.shape[0]))\n",
        "print(\"The size of the validation data is X={} Y={} \".format(data_val.shape, labels_val.shape[0]))"
      ],
      "execution_count": null,
      "outputs": [
        {
          "output_type": "stream",
          "name": "stdout",
          "text": [
            "The size of the test data is X=(3589, 48, 48, 1) Y=3589 \n",
            "The size of the validation data is X=(3589, 48, 48, 1) Y=3589 \n"
          ]
        }
      ]
    },
    {
      "cell_type": "markdown",
      "metadata": {
        "id": "y0DwZzl4NFXw"
      },
      "source": [
        "Visualization of the distribution of the emotions in the training data"
      ]
    },
    {
      "cell_type": "code",
      "metadata": {
        "colab": {
          "base_uri": "https://localhost:8080/",
          "height": 283
        },
        "id": "duPe_G_GNEpU",
        "outputId": "cb338e12-d451-4900-8bc2-17874f19e2b8"
      },
      "source": [
        "import matplotlib.pyplot as plt\n",
        "import seaborn as sns\n",
        "sns.countplot(x=labels_train)"
      ],
      "execution_count": null,
      "outputs": [
        {
          "output_type": "execute_result",
          "data": {
            "text/plain": [
              "<matplotlib.axes._subplots.AxesSubplot at 0x7fdd7d137110>"
            ]
          },
          "metadata": {},
          "execution_count": 8
        },
        {
          "output_type": "display_data",
          "data": {
            "image/png": "[encoded data removed]",
            "text/plain": [
              "<Figure size 432x288 with 1 Axes>"
            ]
          },
          "metadata": {
            "needs_background": "light"
          }
        }
      ]
    },
    {
      "cell_type": "code",
      "metadata": {
        "colab": {
          "base_uri": "https://localhost:8080/",
          "height": 283
        },
        "id": "_6dLm1N2KEx-",
        "outputId": "baf54e5d-4ac9-4235-e026-0b7f18c548df"
      },
      "source": [
        "sns.countplot(x=labels_val)"
      ],
      "execution_count": null,
      "outputs": [
        {
          "output_type": "execute_result",
          "data": {
            "text/plain": [
              "<matplotlib.axes._subplots.AxesSubplot at 0x7fdd7c774bd0>"
            ]
          },
          "metadata": {},
          "execution_count": 9
        },
        {
          "output_type": "display_data",
          "data": {
            "image/png": "[encoded data removed]",
            "text/plain": [
              "<Figure size 432x288 with 1 Axes>"
            ]
          },
          "metadata": {
            "needs_background": "light"
          }
        }
      ]
    },
    {
      "cell_type": "code",
      "metadata": {
        "colab": {
          "base_uri": "https://localhost:8080/",
          "height": 283
        },
        "id": "S6eM3P4ZQ4qu",
        "outputId": "b07861ad-e1bd-49ca-b275-470364a64256"
      },
      "source": [
        "sns.countplot(x=labels_test)"
      ],
      "execution_count": null,
      "outputs": [
        {
          "output_type": "execute_result",
          "data": {
            "text/plain": [
              "<matplotlib.axes._subplots.AxesSubplot at 0x7fdd7c2ac890>"
            ]
          },
          "metadata": {},
          "execution_count": 10
        },
        {
          "output_type": "display_data",
          "data": {
            "image/png": "[encoded data removed]",
            "text/plain": [
              "<Figure size 432x288 with 1 Axes>"
            ]
          },
          "metadata": {
            "needs_background": "light"
          }
        }
      ]
    },
    {
      "cell_type": "markdown",
      "metadata": {
        "id": "Qkn95PlBaG_R"
      },
      "source": [
        "# Model training and development"
      ]
    },
    {
      "cell_type": "markdown",
      "metadata": {
        "id": "CBWQCmMyaqTP"
      },
      "source": [
        "Starting with a small NN to see how it performs on the data"
      ]
    },
    {
      "cell_type": "code",
      "metadata": {
        "colab": {
          "base_uri": "https://localhost:8080/"
        },
        "id": "ea1g7CNRaqxr",
        "outputId": "32400094-b4cd-45d1-f30f-3cd4360d5cdf"
      },
      "source": [
        "batch_size = 128\n",
        "data_size = data_train.shape[0]\n",
        "model0 = Sequential()\n",
        "model0.add(Conv2D(32, (3, 3), activation='relu', input_shape=(48, 48, 1)))\n",
        "model0.add(MaxPooling2D((2, 2)))\n",
        "model0.add(Conv2D(64, (3, 3), activation='relu'))\n",
        "model0.add(MaxPooling2D((2, 2)))\n",
        "model0.add(Conv2D(64, (3, 3), activation='relu'))\n",
        "model0.add(MaxPooling2D((2, 2)))\n",
        "model0.add(Conv2D(64, (3, 3), activation='relu'))\n",
        "model0.add(MaxPooling2D((2, 2)))\n",
        "model0.add(Flatten())\n",
        "model0.add(Dense(64, activation='relu'))\n",
        "model0.add(Flatten())\n",
        "model0.add(Dense(64, activation='relu'))\n",
        "model0.add(Dense(7, activation='softmax'))\n",
        "model0.compile(optimizer=Adam(lr=1e-3), loss='sparse_categorical_crossentropy', metrics=['accuracy'])\n",
        "model0.summary()"
      ],
      "execution_count": null,
      "outputs": [
        {
          "output_type": "stream",
          "name": "stdout",
          "text": [
            "Model: \"sequential_3\"\n",
            "_________________________________________________________________\n",
            " Layer (type)                Output Shape              Param #   \n",
            "=================================================================\n",
            " conv2d_11 (Conv2D)          (None, 46, 46, 32)        320       \n",
            "                                                                 \n",
            " max_pooling2d_5 (MaxPooling  (None, 23, 23, 32)       0         \n",
            " 2D)                                                             \n",
            "                                                                 \n",
            " conv2d_12 (Conv2D)          (None, 21, 21, 64)        18496     \n",
            "                                                                 \n",
            " max_pooling2d_6 (MaxPooling  (None, 10, 10, 64)       0         \n",
            " 2D)                                                             \n",
            "                                                                 \n",
            " conv2d_13 (Conv2D)          (None, 8, 8, 64)          36928     \n",
            "                                                                 \n",
            " max_pooling2d_7 (MaxPooling  (None, 4, 4, 64)         0         \n",
            " 2D)                                                             \n",
            "                                                                 \n",
            " conv2d_14 (Conv2D)          (None, 2, 2, 64)          36928     \n",
            "                                                                 \n",
            " max_pooling2d_8 (MaxPooling  (None, 1, 1, 64)         0         \n",
            " 2D)                                                             \n",
            "                                                                 \n",
            " flatten_1 (Flatten)         (None, 64)                0         \n",
            "                                                                 \n",
            " dense_3 (Dense)             (None, 64)                4160      \n",
            "                                                                 \n",
            " flatten_2 (Flatten)         (None, 64)                0         \n",
            "                                                                 \n",
            " dense_4 (Dense)             (None, 64)                4160      \n",
            "                                                                 \n",
            " dense_5 (Dense)             (None, 7)                 455       \n",
            "                                                                 \n",
            "=================================================================\n",
            "Total params: 101,447\n",
            "Trainable params: 101,447\n",
            "Non-trainable params: 0\n",
            "_________________________________________________________________\n"
          ]
        },
        {
          "output_type": "stream",
          "name": "stderr",
          "text": [
            "/usr/local/lib/python3.7/dist-packages/keras/optimizer_v2/adam.py:105: UserWarning: The `lr` argument is deprecated, use `learning_rate` instead.\n",
            "  super(Adam, self).__init__(name, **kwargs)\n"
          ]
        }
      ]
    },
    {
      "cell_type": "code",
      "metadata": {
        "colab": {
          "base_uri": "https://localhost:8080/"
        },
        "id": "oPIA_71Qa6K1",
        "outputId": "7723a9ab-c379-4a2c-8db7-02fd2c9d245e"
      },
      "source": [
        "history0 = model0.fit(data_train, labels_train,shuffle=True, validation_data=(data_val, labels_val), epochs=20, batch_size=batch_size)"
      ],
      "execution_count": null,
      "outputs": [
        {
          "output_type": "stream",
          "name": "stdout",
          "text": [
            "Epoch 1/20\n",
            "225/225 [==============================] - 87s 383ms/step - loss: 1.7355 - accuracy: 0.2911 - val_loss: 1.5758 - val_accuracy: 0.3792\n",
            "Epoch 2/20\n",
            "225/225 [==============================] - 85s 380ms/step - loss: 1.4785 - accuracy: 0.4235 - val_loss: 1.4048 - val_accuracy: 0.4533\n",
            "Epoch 3/20\n",
            "225/225 [==============================] - 84s 375ms/step - loss: 1.3379 - accuracy: 0.4911 - val_loss: 1.3449 - val_accuracy: 0.4843\n",
            "Epoch 4/20\n",
            "225/225 [==============================] - 85s 378ms/step - loss: 1.2519 - accuracy: 0.5243 - val_loss: 1.3076 - val_accuracy: 0.4962\n",
            "Epoch 5/20\n",
            "225/225 [==============================] - 85s 376ms/step - loss: 1.1840 - accuracy: 0.5540 - val_loss: 1.2555 - val_accuracy: 0.5185\n",
            "Epoch 6/20\n",
            "225/225 [==============================] - 85s 377ms/step - loss: 1.1296 - accuracy: 0.5700 - val_loss: 1.2280 - val_accuracy: 0.5288\n",
            "Epoch 7/20\n",
            "225/225 [==============================] - 84s 374ms/step - loss: 1.0820 - accuracy: 0.5914 - val_loss: 1.2037 - val_accuracy: 0.5433\n",
            "Epoch 8/20\n",
            "225/225 [==============================] - 84s 374ms/step - loss: 1.0360 - accuracy: 0.6107 - val_loss: 1.2491 - val_accuracy: 0.5378\n",
            "Epoch 9/20\n",
            "225/225 [==============================] - 84s 372ms/step - loss: 0.9957 - accuracy: 0.6267 - val_loss: 1.2017 - val_accuracy: 0.5511\n",
            "Epoch 10/20\n",
            "225/225 [==============================] - 83s 370ms/step - loss: 0.9607 - accuracy: 0.6406 - val_loss: 1.2189 - val_accuracy: 0.5456\n",
            "Epoch 11/20\n",
            "225/225 [==============================] - 84s 373ms/step - loss: 0.9167 - accuracy: 0.6590 - val_loss: 1.2189 - val_accuracy: 0.5517\n",
            "Epoch 12/20\n",
            "225/225 [==============================] - 83s 369ms/step - loss: 0.8803 - accuracy: 0.6704 - val_loss: 1.2381 - val_accuracy: 0.5670\n",
            "Epoch 13/20\n",
            "225/225 [==============================] - 84s 372ms/step - loss: 0.8449 - accuracy: 0.6850 - val_loss: 1.2483 - val_accuracy: 0.5564\n",
            "Epoch 14/20\n",
            "225/225 [==============================] - 84s 373ms/step - loss: 0.8078 - accuracy: 0.6970 - val_loss: 1.2607 - val_accuracy: 0.5734\n",
            "Epoch 15/20\n",
            "225/225 [==============================] - 84s 372ms/step - loss: 0.7729 - accuracy: 0.7142 - val_loss: 1.3190 - val_accuracy: 0.5651\n",
            "Epoch 16/20\n",
            "225/225 [==============================] - 83s 370ms/step - loss: 0.7425 - accuracy: 0.7233 - val_loss: 1.3178 - val_accuracy: 0.5606\n",
            "Epoch 17/20\n",
            "225/225 [==============================] - 83s 371ms/step - loss: 0.7062 - accuracy: 0.7396 - val_loss: 1.3292 - val_accuracy: 0.5595\n",
            "Epoch 18/20\n",
            "225/225 [==============================] - 83s 369ms/step - loss: 0.6789 - accuracy: 0.7484 - val_loss: 1.3549 - val_accuracy: 0.5614\n",
            "Epoch 19/20\n",
            "225/225 [==============================] - 84s 374ms/step - loss: 0.6527 - accuracy: 0.7587 - val_loss: 1.4049 - val_accuracy: 0.5497\n",
            "Epoch 20/20\n",
            "225/225 [==============================] - 85s 376ms/step - loss: 0.6109 - accuracy: 0.7760 - val_loss: 1.5288 - val_accuracy: 0.5425\n"
          ]
        }
      ]
    },
    {
      "cell_type": "markdown",
      "metadata": {
        "id": "xPlI4jrLarbg"
      },
      "source": [
        "Now adding more layers, normalization, early_stopping to get better results"
      ]
    },
    {
      "cell_type": "code",
      "metadata": {
        "id": "uj7-OhkBQ6iR"
      },
      "source": [
        "from keras import models, regularizers\n",
        "from keras.layers import Activation, Conv2D, MaxPooling2D, Dense, Flatten, Dropout, BatchNormalization\n",
        "from tensorflow.keras.optimizers import RMSprop,Adam\n",
        "from tensorflow.keras import Sequential"
      ],
      "execution_count": null,
      "outputs": []
    },
    {
      "cell_type": "code",
      "metadata": {
        "id": "LXdp95aXRgdE"
      },
      "source": [
        "from keras.callbacks import ModelCheckpoint, EarlyStopping, ReduceLROnPlateau\n",
        "import pandas as pd\n",
        "\n",
        "checkpoint = ModelCheckpoint(\"model.h5\", monitor='val_acc', verbose=1, save_best_only=True, mode='max')\n",
        "\n",
        "early_stopping = EarlyStopping(monitor='val_loss', \n",
        "                          min_delta=0,\n",
        "                          patience=7,\n",
        "                          verbose=1,\n",
        "                          restore_best_weights=True\n",
        "                          )\n",
        "\n",
        "reduce_learningrate = ReduceLROnPlateau(monitor='val_loss',\n",
        "                              factor=0.2,\n",
        "                              patience=3,\n",
        "                              verbose=1,\n",
        "                              min_delta=0.0001)\n",
        "\n",
        "callbacks_list = [early_stopping,checkpoint,reduce_learningrate]\n"
      ],
      "execution_count": null,
      "outputs": []
    },
    {
      "cell_type": "code",
      "metadata": {
        "id": "J6OxTlIZRzcO"
      },
      "source": [
        "def model_define(filtre,drop_out,drop_out2,act_func):\n",
        "  model = Sequential()\n",
        "\n",
        "  model.add(Conv2D(filtre,(3,3),padding='same',kernel_initializer='he_normal',input_shape=(48,48,1)))\n",
        "  model.add(Activation(act_func))\n",
        "  model.add(BatchNormalization())\n",
        "  model.add(Conv2D(filtre,(3,3),padding='same',kernel_initializer='he_normal',input_shape=(48,48,1)))\n",
        "  model.add(Activation(act_func))\n",
        "  model.add(BatchNormalization())\n",
        "  model.add(MaxPooling2D(pool_size=(2,2)))\n",
        "  model.add(Dropout(drop_out))\n",
        "\n",
        "  model.add(Conv2D(3*filtre,(3,3),padding='same',kernel_initializer='he_normal'))\n",
        "  model.add(Activation(act_func))\n",
        "  model.add(BatchNormalization())\n",
        "  model.add(Conv2D(3*filtre,(3,3),padding='same',kernel_initializer='he_normal'))\n",
        "  model.add(Activation(act_func))\n",
        "  model.add(BatchNormalization())\n",
        "  model.add(MaxPooling2D(pool_size=(2,2)))\n",
        "  model.add(Dropout(drop_out))\n",
        "\n",
        "  model.add(Conv2D(6*filtre,(3,3),padding='same',kernel_initializer='he_normal'))\n",
        "  model.add(Activation(act_func))\n",
        "  model.add(BatchNormalization())\n",
        "  model.add(Conv2D(6*filtre,(3,3),padding='same',kernel_initializer='he_normal'))\n",
        "  model.add(Activation(act_func))\n",
        "  model.add(BatchNormalization())\n",
        "  model.add(MaxPooling2D(pool_size=(2,2)))\n",
        "  model.add(Dropout(drop_out))\n",
        "\n",
        "\n",
        "  model.add(Conv2D(6*filtre,(3,3),padding='same',kernel_initializer='he_normal'))\n",
        "  model.add(Activation(act_func))\n",
        "  model.add(BatchNormalization())\n",
        "  model.add(Conv2D(6*filtre,(3,3),padding='same',kernel_initializer='he_normal'))\n",
        "  model.add(Activation(act_func))\n",
        "  model.add(BatchNormalization())\n",
        "  model.add(MaxPooling2D(pool_size=(2,2)))\n",
        "  model.add(Dropout(drop_out))\n",
        "\n",
        "\n",
        "  model.add(Flatten())\n",
        "  model.add(Dense(64,kernel_initializer='he_normal'))\n",
        "  model.add(Activation(act_func))\n",
        "  model.add(BatchNormalization())\n",
        "  model.add(Dropout(drop_out2))\n",
        "\n",
        "\n",
        "  model.add(Dense(64,kernel_initializer='he_normal'))\n",
        "  model.add(Activation(act_func))\n",
        "  model.add(BatchNormalization())\n",
        "  model.add(Dropout(drop_out2))\n",
        "\n",
        "\n",
        "  model.add(Dense(7,kernel_initializer='he_normal'))\n",
        "  model.add(Activation('softmax'))\n",
        "  return model"
      ],
      "execution_count": null,
      "outputs": []
    },
    {
      "cell_type": "code",
      "metadata": {
        "id": "cSGKEW7tR7IE"
      },
      "source": [
        "drop_out = [0.1,0.2] \n",
        "drop_out2 = [0.2,0.5] \n",
        "act_func = ['relu','elu','tanh','sigmoid','softmax']\n",
        "filtre = [8,10,16,20,32,64] \n",
        "results = pd.DataFrame(columns=[\"drop_out_1\", \"drop_out_2\", \"activation_func\", \"filters\", \"train_accuracy\", \"train_loss\", \"validation_accuracy\", \"validation_loss\"])"
      ],
      "execution_count": null,
      "outputs": []
    },
    {
      "cell_type": "code",
      "metadata": {
        "id": "BYTbkpFGSu2H"
      },
      "source": [
        "#use try catch here fo smoother execution\n",
        "try:\n",
        "  save_file = pd.read_csv('/content/drive/MyDrive/Colab Notebooks/M2_AI/AAP/project/results.csv')\n",
        "except FileNotFoundError:\n",
        "  results.to_csv('/content/drive/MyDrive/Colab Notebooks/M2_AI/AAP/project/results.csv', index=False)"
      ],
      "execution_count": null,
      "outputs": []
    },
    {
      "cell_type": "code",
      "metadata": {
        "colab": {
          "base_uri": "https://localhost:8080/"
        },
        "id": "1xBUV81MSB63",
        "outputId": "b4dbbb97-7eba-4491-fcdb-778420a4cc09"
      },
      "source": [
        "for drop_out_1 in drop_out:\n",
        "  for drop_out_2 in drop_out2:\n",
        "    for act_func_1 in act_func:\n",
        "      for filtre1 in filtre:\n",
        "        model = model_define(filtre1,drop_out_1,drop_out_2,act_func_1)\n",
        "        model.compile(optimizer=Adam(lr=1e-3), loss='sparse_categorical_crossentropy', metrics=['accuracy'])\n",
        "        history = model.fit(data_train, labels_train,shuffle=True,\n",
        "                    validation_data=(data_val, labels_val),\n",
        "                    epochs=50,\n",
        "                    batch_size=64,callbacks=callbacks_list)\n",
        "        results.loc[results.shape[0]] = [drop_out_1, drop_out_2, act_func_1, filtre1, history.history[\"accuracy\"][-1], history.history[\"loss\"][-1], history.history[\"val_accuracy\"][-1], history.history[\"val_loss\"][-1]]\n",
        "        save_file = pd.read_csv('/content/drive/MyDrive/Colab Notebooks/M2_AI/AAP/project/results.csv')\n",
        "        save_file.loc[save_file.shape[0]] = results.iloc[-1]\n",
        "        save_file.to_csv('/content/drive/MyDrive/Colab Notebooks/M2_AI/AAP/project/results.csv', index=False)\n"
      ],
      "execution_count": null,
      "outputs": [
        {
          "output_type": "stream",
          "name": "stderr",
          "text": [
            "/usr/local/lib/python3.7/dist-packages/keras/optimizer_v2/adam.py:105: UserWarning: The `lr` argument is deprecated, use `learning_rate` instead.\n",
            "  super(Adam, self).__init__(name, **kwargs)\n"
          ]
        },
        {
          "output_type": "stream",
          "name": "stdout",
          "text": [
            "Epoch 1/50\n",
            "449/449 [==============================] - ETA: 0s - loss: 1.9083 - accuracy: 0.2930WARNING:tensorflow:Can save best model only with val_acc available, skipping.\n",
            "449/449 [==============================] - 940s 2s/step - loss: 1.9083 - accuracy: 0.2930 - val_loss: 1.6261 - val_accuracy: 0.3689 - lr: 0.0010\n",
            "Epoch 2/50\n",
            "449/449 [==============================] - ETA: 0s - loss: 1.4953 - accuracy: 0.4252WARNING:tensorflow:Can save best model only with val_acc available, skipping.\n",
            "449/449 [==============================] - 944s 2s/step - loss: 1.4953 - accuracy: 0.4252 - val_loss: 1.3484 - val_accuracy: 0.4795 - lr: 0.0010\n",
            "Epoch 3/50\n",
            "449/449 [==============================] - ETA: 0s - loss: 1.3276 - accuracy: 0.4962WARNING:tensorflow:Can save best model only with val_acc available, skipping.\n",
            "449/449 [==============================] - 948s 2s/step - loss: 1.3276 - accuracy: 0.4962 - val_loss: 1.2191 - val_accuracy: 0.5339 - lr: 0.0010\n",
            "Epoch 4/50\n",
            "449/449 [==============================] - ETA: 0s - loss: 1.2289 - accuracy: 0.5347WARNING:tensorflow:Can save best model only with val_acc available, skipping.\n",
            "449/449 [==============================] - 880s 2s/step - loss: 1.2289 - accuracy: 0.5347 - val_loss: 1.1759 - val_accuracy: 0.5556 - lr: 0.0010\n",
            "Epoch 5/50\n",
            "449/449 [==============================] - ETA: 0s - loss: 1.1588 - accuracy: 0.5617WARNING:tensorflow:Can save best model only with val_acc available, skipping.\n",
            "449/449 [==============================] - 878s 2s/step - loss: 1.1588 - accuracy: 0.5617 - val_loss: 1.1364 - val_accuracy: 0.5740 - lr: 0.0010\n",
            "Epoch 6/50\n",
            "449/449 [==============================] - ETA: 0s - loss: 1.1019 - accuracy: 0.5870WARNING:tensorflow:Can save best model only with val_acc available, skipping.\n",
            "449/449 [==============================] - 878s 2s/step - loss: 1.1019 - accuracy: 0.5870 - val_loss: 1.0790 - val_accuracy: 0.5938 - lr: 0.0010\n",
            "Epoch 7/50\n",
            "449/449 [==============================] - ETA: 0s - loss: 1.0420 - accuracy: 0.6131WARNING:tensorflow:Can save best model only with val_acc available, skipping.\n",
            "449/449 [==============================] - 878s 2s/step - loss: 1.0420 - accuracy: 0.6131 - val_loss: 1.0860 - val_accuracy: 0.6030 - lr: 0.0010\n",
            "Epoch 8/50\n",
            "449/449 [==============================] - ETA: 0s - loss: 0.9894 - accuracy: 0.6326WARNING:tensorflow:Can save best model only with val_acc available, skipping.\n",
            "449/449 [==============================] - 875s 2s/step - loss: 0.9894 - accuracy: 0.6326 - val_loss: 1.0348 - val_accuracy: 0.6094 - lr: 0.0010\n",
            "Epoch 9/50\n",
            "449/449 [==============================] - ETA: 0s - loss: 0.9369 - accuracy: 0.6531WARNING:tensorflow:Can save best model only with val_acc available, skipping.\n",
            "449/449 [==============================] - 881s 2s/step - loss: 0.9369 - accuracy: 0.6531 - val_loss: 1.0979 - val_accuracy: 0.5924 - lr: 0.0010\n",
            "Epoch 10/50\n",
            "449/449 [==============================] - ETA: 0s - loss: 0.8817 - accuracy: 0.6738WARNING:tensorflow:Can save best model only with val_acc available, skipping.\n",
            "449/449 [==============================] - 906s 2s/step - loss: 0.8817 - accuracy: 0.6738 - val_loss: 1.0378 - val_accuracy: 0.6160 - lr: 0.0010\n",
            "Epoch 11/50\n",
            "449/449 [==============================] - ETA: 0s - loss: 0.8227 - accuracy: 0.6976WARNING:tensorflow:Can save best model only with val_acc available, skipping.\n",
            "449/449 [==============================] - 914s 2s/step - loss: 0.8227 - accuracy: 0.6976 - val_loss: 1.0192 - val_accuracy: 0.6308 - lr: 0.0010\n",
            "Epoch 12/50\n",
            "449/449 [==============================] - ETA: 0s - loss: 0.7600 - accuracy: 0.7231WARNING:tensorflow:Can save best model only with val_acc available, skipping.\n",
            "449/449 [==============================] - 920s 2s/step - loss: 0.7600 - accuracy: 0.7231 - val_loss: 1.0322 - val_accuracy: 0.6347 - lr: 0.0010\n",
            "Epoch 13/50\n",
            "449/449 [==============================] - ETA: 0s - loss: 0.7018 - accuracy: 0.7463WARNING:tensorflow:Can save best model only with val_acc available, skipping.\n",
            "449/449 [==============================] - 931s 2s/step - loss: 0.7018 - accuracy: 0.7463 - val_loss: 1.0623 - val_accuracy: 0.6250 - lr: 0.0010\n",
            "Epoch 14/50\n",
            "449/449 [==============================] - ETA: 0s - loss: 0.6461 - accuracy: 0.7690WARNING:tensorflow:Can save best model only with val_acc available, skipping.\n",
            "\n",
            "Epoch 00014: ReduceLROnPlateau reducing learning rate to 0.00020000000949949026.\n",
            "449/449 [==============================] - 937s 2s/step - loss: 0.6461 - accuracy: 0.7690 - val_loss: 1.0571 - val_accuracy: 0.6383 - lr: 0.0010\n",
            "Epoch 15/50\n",
            "449/449 [==============================] - ETA: 0s - loss: 0.4640 - accuracy: 0.8389WARNING:tensorflow:Can save best model only with val_acc available, skipping.\n",
            "449/449 [==============================] - 921s 2s/step - loss: 0.4640 - accuracy: 0.8389 - val_loss: 1.0804 - val_accuracy: 0.6509 - lr: 2.0000e-04\n",
            "Epoch 16/50\n",
            "449/449 [==============================] - ETA: 0s - loss: 0.3694 - accuracy: 0.8722WARNING:tensorflow:Can save best model only with val_acc available, skipping.\n",
            "449/449 [==============================] - 905s 2s/step - loss: 0.3694 - accuracy: 0.8722 - val_loss: 1.1712 - val_accuracy: 0.6534 - lr: 2.0000e-04\n",
            "Epoch 17/50\n",
            "449/449 [==============================] - ETA: 0s - loss: 0.3217 - accuracy: 0.8883WARNING:tensorflow:Can save best model only with val_acc available, skipping.\n",
            "\n",
            "Epoch 00017: ReduceLROnPlateau reducing learning rate to 4.0000001899898055e-05.\n",
            "449/449 [==============================] - 909s 2s/step - loss: 0.3217 - accuracy: 0.8883 - val_loss: 1.2166 - val_accuracy: 0.6534 - lr: 2.0000e-04\n",
            "Epoch 18/50\n",
            "449/449 [==============================] - ETA: 0s - loss: 0.2687 - accuracy: 0.9109Restoring model weights from the end of the best epoch: 11.\n",
            "WARNING:tensorflow:Can save best model only with val_acc available, skipping.\n",
            "449/449 [==============================] - 907s 2s/step - loss: 0.2687 - accuracy: 0.9109 - val_loss: 1.2217 - val_accuracy: 0.6556 - lr: 4.0000e-05\n",
            "Epoch 00018: early stopping\n"
          ]
        }
      ]
    },
    {
      "cell_type": "markdown",
      "metadata": {
        "id": "F9r7skxWaagY"
      },
      "source": [
        "Visualisation of the model evolution "
      ]
    },
    {
      "cell_type": "code",
      "metadata": {
        "colab": {
          "base_uri": "https://localhost:8080/",
          "height": 350
        },
        "id": "LbY_b-m3V720",
        "outputId": "05767395-7444-4008-de00-b52c1c7a2211"
      },
      "source": [
        "import matplotlib.pyplot as plt\n",
        "\n",
        "fig , ax = plt.subplots(1,2)\n",
        "train_accuracy = history.history['accuracy']\n",
        "train_loss = history.history['loss']\n",
        "fig.set_size_inches(10,5)\n",
        "\n",
        "ax[0].plot(history.history['accuracy'])\n",
        "ax[0].plot(history.history['val_accuracy'])\n",
        "ax[0].set_title('Training Accuracy vs Validation Accuracy')\n",
        "ax[0].set_ylabel('Accuracy')\n",
        "ax[0].set_xlabel('Epochs')\n",
        "ax[0].legend(['Train', 'Validation'], loc='best')\n",
        "\n",
        "ax[1].plot(history.history['loss'])\n",
        "ax[1].plot(history.history['val_loss'])\n",
        "ax[1].set_title('Training Loss vs Validation Loss')\n",
        "ax[1].set_ylabel('Loss')\n",
        "ax[1].set_xlabel('Epochs')\n",
        "ax[1].legend(['Train', 'Validation'], loc='best')\n",
        "\n",
        "plt.show()"
      ],
      "execution_count": null,
      "outputs": [
        {
          "output_type": "display_data",
          "data": {
            "image/png": "[encoded data removed]",
            "text/plain": [
              "<Figure size 720x360 with 2 Axes>"
            ]
          },
          "metadata": {
            "needs_background": "light"
          }
        }
      ]
    },
    {
      "cell_type": "markdown",
      "metadata": {
        "id": "TnJ3gIEgjEGo"
      },
      "source": [
        "Using image data generator"
      ]
    },
    {
      "cell_type": "code",
      "metadata": {
        "id": "dS2_iZmBjpym"
      },
      "source": [
        "from tensorflow.keras.preprocessing.image import ImageDataGenerator\n",
        "aug = ImageDataGenerator(rotation_range=20,zoom_range=0.15,width_shift_range=0.2,height_shift_range=0.2,shear_range=0.15,horizontal_flip=True,fill_mode=\"nearest\")"
      ],
      "execution_count": null,
      "outputs": []
    },
    {
      "cell_type": "code",
      "metadata": {
        "colab": {
          "base_uri": "https://localhost:8080/"
        },
        "id": "HSRHn_x7jJc1",
        "outputId": "7fa01a66-a8d0-4cb9-9a0f-42a3dc7333c8"
      },
      "source": [
        "model_aug = model_define(32,0.2,0.2,'relu')\n",
        "model_aug.compile(optimizer=Adam(lr=1e-3), loss='sparse_categorical_crossentropy', metrics=['accuracy'])\n",
        "history_aug = model_aug.fit(aug.flow(data_train, labels_train, batch_size=64),shuffle=True, validation_data=(data_val, labels_val), epochs=50, batch_size=64,callbacks=callbacks_list)"
      ],
      "execution_count": null,
      "outputs": [
        {
          "output_type": "stream",
          "name": "stderr",
          "text": [
            "/usr/local/lib/python3.7/dist-packages/keras/optimizer_v2/adam.py:105: UserWarning: The `lr` argument is deprecated, use `learning_rate` instead.\n",
            "  super(Adam, self).__init__(name, **kwargs)\n"
          ]
        },
        {
          "output_type": "stream",
          "name": "stdout",
          "text": [
            "Epoch 1/50\n",
            "449/449 [==============================] - ETA: 0s - loss: 2.0014 - accuracy: 0.2250WARNING:tensorflow:Can save best model only with val_acc available, skipping.\n",
            "449/449 [==============================] - 915s 2s/step - loss: 2.0014 - accuracy: 0.2250 - val_loss: 1.7420 - val_accuracy: 0.2923 - lr: 0.0010\n",
            "Epoch 2/50\n",
            "449/449 [==============================] - ETA: 0s - loss: 1.7810 - accuracy: 0.2843WARNING:tensorflow:Can save best model only with val_acc available, skipping.\n",
            "449/449 [==============================] - 917s 2s/step - loss: 1.7810 - accuracy: 0.2843 - val_loss: 1.6088 - val_accuracy: 0.3664 - lr: 0.0010\n",
            "Epoch 3/50\n",
            "449/449 [==============================] - ETA: 0s - loss: 1.6277 - accuracy: 0.3591WARNING:tensorflow:Can save best model only with val_acc available, skipping.\n",
            "449/449 [==============================] - 925s 2s/step - loss: 1.6277 - accuracy: 0.3591 - val_loss: 1.5187 - val_accuracy: 0.4274 - lr: 0.0010\n",
            "Epoch 4/50\n",
            "449/449 [==============================] - ETA: 0s - loss: 1.4752 - accuracy: 0.4304WARNING:tensorflow:Can save best model only with val_acc available, skipping.\n",
            "449/449 [==============================] - 941s 2s/step - loss: 1.4752 - accuracy: 0.4304 - val_loss: 1.3724 - val_accuracy: 0.4993 - lr: 0.0010\n",
            "Epoch 5/50\n",
            "449/449 [==============================] - ETA: 0s - loss: 1.3762 - accuracy: 0.4753WARNING:tensorflow:Can save best model only with val_acc available, skipping.\n",
            "449/449 [==============================] - 990s 2s/step - loss: 1.3762 - accuracy: 0.4753 - val_loss: 1.3062 - val_accuracy: 0.5010 - lr: 0.0010\n",
            "Epoch 6/50\n",
            "449/449 [==============================] - ETA: 0s - loss: 1.3046 - accuracy: 0.5080WARNING:tensorflow:Can save best model only with val_acc available, skipping.\n",
            "449/449 [==============================] - 1046s 2s/step - loss: 1.3046 - accuracy: 0.5080 - val_loss: 1.2456 - val_accuracy: 0.5347 - lr: 0.0010\n",
            "Epoch 7/50\n",
            "449/449 [==============================] - ETA: 0s - loss: 1.2611 - accuracy: 0.5208WARNING:tensorflow:Can save best model only with val_acc available, skipping.\n",
            "449/449 [==============================] - 959s 2s/step - loss: 1.2611 - accuracy: 0.5208 - val_loss: 1.2027 - val_accuracy: 0.5403 - lr: 0.0010\n",
            "Epoch 8/50\n",
            "449/449 [==============================] - ETA: 0s - loss: 1.2173 - accuracy: 0.5391WARNING:tensorflow:Can save best model only with val_acc available, skipping.\n",
            "449/449 [==============================] - 970s 2s/step - loss: 1.2173 - accuracy: 0.5391 - val_loss: 1.1807 - val_accuracy: 0.5539 - lr: 0.0010\n",
            "Epoch 9/50\n",
            "449/449 [==============================] - ETA: 0s - loss: 1.1828 - accuracy: 0.5539WARNING:tensorflow:Can save best model only with val_acc available, skipping.\n",
            "449/449 [==============================] - 974s 2s/step - loss: 1.1828 - accuracy: 0.5539 - val_loss: 1.1050 - val_accuracy: 0.5885 - lr: 0.0010\n",
            "Epoch 10/50\n",
            "449/449 [==============================] - ETA: 0s - loss: 1.1612 - accuracy: 0.5639WARNING:tensorflow:Can save best model only with val_acc available, skipping.\n",
            "449/449 [==============================] - 929s 2s/step - loss: 1.1612 - accuracy: 0.5639 - val_loss: 1.1002 - val_accuracy: 0.5826 - lr: 0.0010\n",
            "Epoch 11/50\n",
            "449/449 [==============================] - ETA: 0s - loss: 1.1409 - accuracy: 0.5740WARNING:tensorflow:Can save best model only with val_acc available, skipping.\n",
            "449/449 [==============================] - 922s 2s/step - loss: 1.1409 - accuracy: 0.5740 - val_loss: 1.0429 - val_accuracy: 0.6027 - lr: 0.0010\n",
            "Epoch 12/50\n",
            "449/449 [==============================] - ETA: 0s - loss: 1.1221 - accuracy: 0.5811WARNING:tensorflow:Can save best model only with val_acc available, skipping.\n",
            "449/449 [==============================] - 941s 2s/step - loss: 1.1221 - accuracy: 0.5811 - val_loss: 1.0431 - val_accuracy: 0.6099 - lr: 0.0010\n",
            "Epoch 13/50\n",
            "449/449 [==============================] - ETA: 0s - loss: 1.1028 - accuracy: 0.5885WARNING:tensorflow:Can save best model only with val_acc available, skipping.\n",
            "449/449 [==============================] - 927s 2s/step - loss: 1.1028 - accuracy: 0.5885 - val_loss: 1.0053 - val_accuracy: 0.6211 - lr: 0.0010\n",
            "Epoch 14/50\n",
            "449/449 [==============================] - ETA: 0s - loss: 1.0852 - accuracy: 0.5941WARNING:tensorflow:Can save best model only with val_acc available, skipping.\n",
            "449/449 [==============================] - 933s 2s/step - loss: 1.0852 - accuracy: 0.5941 - val_loss: 1.0282 - val_accuracy: 0.6138 - lr: 0.0010\n",
            "Epoch 15/50\n",
            "449/449 [==============================] - ETA: 0s - loss: 1.0723 - accuracy: 0.5993WARNING:tensorflow:Can save best model only with val_acc available, skipping.\n",
            "449/449 [==============================] - 956s 2s/step - loss: 1.0723 - accuracy: 0.5993 - val_loss: 0.9991 - val_accuracy: 0.6250 - lr: 0.0010\n",
            "Epoch 16/50\n",
            "449/449 [==============================] - ETA: 0s - loss: 1.0533 - accuracy: 0.6074WARNING:tensorflow:Can save best model only with val_acc available, skipping.\n",
            "449/449 [==============================] - 926s 2s/step - loss: 1.0533 - accuracy: 0.6074 - val_loss: 0.9847 - val_accuracy: 0.6342 - lr: 0.0010\n",
            "Epoch 17/50\n",
            "449/449 [==============================] - ETA: 0s - loss: 1.0454 - accuracy: 0.6126WARNING:tensorflow:Can save best model only with val_acc available, skipping.\n",
            "449/449 [==============================] - 921s 2s/step - loss: 1.0454 - accuracy: 0.6126 - val_loss: 0.9934 - val_accuracy: 0.6233 - lr: 0.0010\n",
            "Epoch 18/50\n",
            "449/449 [==============================] - ETA: 0s - loss: 1.0355 - accuracy: 0.6114WARNING:tensorflow:Can save best model only with val_acc available, skipping.\n",
            "449/449 [==============================] - 937s 2s/step - loss: 1.0355 - accuracy: 0.6114 - val_loss: 0.9963 - val_accuracy: 0.6219 - lr: 0.0010\n",
            "Epoch 19/50\n",
            "449/449 [==============================] - ETA: 0s - loss: 1.0242 - accuracy: 0.6194WARNING:tensorflow:Can save best model only with val_acc available, skipping.\n",
            "449/449 [==============================] - 954s 2s/step - loss: 1.0242 - accuracy: 0.6194 - val_loss: 0.9721 - val_accuracy: 0.6397 - lr: 0.0010\n",
            "Epoch 20/50\n",
            "449/449 [==============================] - ETA: 0s - loss: 1.0074 - accuracy: 0.6250WARNING:tensorflow:Can save best model only with val_acc available, skipping.\n",
            "449/449 [==============================] - 946s 2s/step - loss: 1.0074 - accuracy: 0.6250 - val_loss: 0.9843 - val_accuracy: 0.6411 - lr: 0.0010\n",
            "Epoch 21/50\n",
            "449/449 [==============================] - ETA: 0s - loss: 1.0034 - accuracy: 0.6262WARNING:tensorflow:Can save best model only with val_acc available, skipping.\n",
            "449/449 [==============================] - 955s 2s/step - loss: 1.0034 - accuracy: 0.6262 - val_loss: 0.9485 - val_accuracy: 0.6428 - lr: 0.0010\n",
            "Epoch 22/50\n",
            "449/449 [==============================] - ETA: 0s - loss: 0.9907 - accuracy: 0.6293WARNING:tensorflow:Can save best model only with val_acc available, skipping.\n",
            "449/449 [==============================] - 931s 2s/step - loss: 0.9907 - accuracy: 0.6293 - val_loss: 0.9781 - val_accuracy: 0.6364 - lr: 0.0010\n",
            "Epoch 23/50\n",
            "304/449 [===================>..........] - ETA: 4:50 - loss: 0.9903 - accuracy: 0.6315"
          ]
        }
      ]
    },
    {
      "cell_type": "markdown",
      "metadata": {
        "id": "CRDMt-p7ahVp"
      },
      "source": [
        "Saving the model"
      ]
    },
    {
      "cell_type": "code",
      "metadata": {
        "id": "LNaG4i5tym01"
      },
      "source": [
        "model.save('emotion_detection.h5')\n",
        "model.save_weights('model_weights.h5')\n",
        "np.save(\"history\", history.history)"
      ],
      "execution_count": null,
      "outputs": []
    }
  ]
}
